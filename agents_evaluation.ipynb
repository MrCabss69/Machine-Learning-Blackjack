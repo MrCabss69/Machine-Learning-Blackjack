{
 "cells": [
  {
   "cell_type": "code",
   "execution_count": 1,
   "metadata": {},
   "outputs": [
    {
     "name": "stderr",
     "output_type": "stream",
     "text": [
      "2024-01-05 01:38:15.117509: I tensorflow/tsl/cuda/cudart_stub.cc:28] Could not find cuda drivers on your machine, GPU will not be used.\n",
      "2024-01-05 01:38:15.170653: I tensorflow/tsl/cuda/cudart_stub.cc:28] Could not find cuda drivers on your machine, GPU will not be used.\n",
      "2024-01-05 01:38:15.171749: I tensorflow/core/platform/cpu_feature_guard.cc:182] This TensorFlow binary is optimized to use available CPU instructions in performance-critical operations.\n",
      "To enable the following instructions: AVX2 FMA, in other operations, rebuild TensorFlow with the appropriate compiler flags.\n",
      "2024-01-05 01:38:16.260118: W tensorflow/compiler/tf2tensorrt/utils/py_utils.cc:38] TF-TRT Warning: Could not find TensorRT\n"
     ]
    }
   ],
   "source": [
    "import matplotlib.pyplot as plt\n",
    "from core import MontecarloBlackjack, DummyAgent, NeuralNetworkAgent, QLearningAgent\n",
    "from juego import Juego\n",
    "from tqdm import tqdm"
   ]
  },
  {
   "attachments": {},
   "cell_type": "markdown",
   "metadata": {},
   "source": [
    "# Q-Learning"
   ]
  },
  {
   "cell_type": "code",
   "execution_count": 2,
   "metadata": {},
   "outputs": [],
   "source": [
    "def obtener_nuevo_estado(juego, accion):\n",
    "    if accion == [1,0]:\n",
    "        juego.jugador.actualizar_mano(juego.baraja.pop(0))\n",
    "        return juego.estado.get_estado_codificado()\n",
    "        \n",
    "    elif accion == [0,1]:\n",
    "        return juego.estado.get_estado_codificado()"
   ]
  },
  {
   "cell_type": "code",
   "execution_count": 3,
   "metadata": {},
   "outputs": [],
   "source": [
    "def train(episodios):\n",
    "    agente = QLearningAgent()\n",
    "    resultados = []\n",
    "\n",
    "    for _ in tqdm(range(episodios), desc=\"Entrenando Agente\"):\n",
    "        juego = Juego(agente)\n",
    "        juego.setup()\n",
    "        while not juego.is_terminal():\n",
    "            if len(juego.baraja) < 1:\n",
    "                juego.baraja = juego.new_deck()\n",
    "            jugador_activo = juego.jugador_activo()\n",
    "            estado_codificado = tuple(juego.estado.get_estado_codificado())\n",
    "            accion = agente.get_action(estado_codificado)\n",
    "            juego.realizar_accion(jugador_activo, accion)\n",
    "        resultado_episodio = juego.get_resultados()\n",
    "        if resultado_episodio:\n",
    "            resultados.extend(resultado_episodio)\n",
    "            for estado_codificado, accion, res in resultado_episodio:\n",
    "                accion_str = 'HIT' if accion == [1, 0] else 'STAND'\n",
    "                nuevo_estado = obtener_nuevo_estado(juego, accion)\n",
    "                agente.update_q_table(estado_codificado, accion_str, res, nuevo_estado)\n",
    "    return agente, resultados"
   ]
  },
  {
   "cell_type": "code",
   "execution_count": 4,
   "metadata": {},
   "outputs": [
    {
     "name": "stderr",
     "output_type": "stream",
     "text": [
      "Entrenando Agente:  25%|██▌       | 25/100 [00:00<00:00, 9567.30it/s]\n"
     ]
    },
    {
     "name": "stdout",
     "output_type": "stream",
     "text": [
      "Estado terminal: False, Acciones disponibles: ['HIT', 'STAND']\n",
      "Acciones posibles: ['HIT', 'STAND'], Acción intentada: STAND\n",
      "Estado terminal: False, Acciones disponibles: ['HIT', 'STAND']\n",
      "Estado terminal: False, Acciones disponibles: ['HIT', 'STAND']\n",
      "Acciones posibles: ['HIT', 'STAND'], Acción intentada: HIT\n",
      "Estado terminal: False, Acciones disponibles: ['HIT', 'STAND']\n",
      "Valor jugador: 15, Valor crupier: 17, Resultado: -1\n",
      "Valor jugador: 12, Valor crupier: 17, Resultado: -1\n",
      "Estado terminal: False, Acciones disponibles: ['HIT', 'STAND']\n",
      "Acciones posibles: ['HIT', 'STAND'], Acción intentada: HIT\n",
      "Estado terminal: False, Acciones disponibles: ['HIT', 'STAND']\n",
      "Estado terminal: False, Acciones disponibles: ['HIT', 'STAND']\n",
      "Acciones posibles: ['HIT', 'STAND'], Acción intentada: HIT\n",
      "Estado terminal: False, Acciones disponibles: ['HIT', 'STAND']\n",
      "Valor jugador: 23, Valor crupier: 14, Resultado: -1\n",
      "Valor jugador: 13, Valor crupier: 19, Resultado: -1\n",
      "Valor jugador: 19, Valor crupier: 18, Resultado: 1\n",
      "Estado terminal: False, Acciones disponibles: ['HIT', 'STAND']\n",
      "Acciones posibles: ['HIT', 'STAND'], Acción intentada: HIT\n",
      "Estado terminal: False, Acciones disponibles: ['HIT', 'STAND']\n",
      "Estado terminal: False, Acciones disponibles: ['HIT', 'STAND']\n",
      "Acciones posibles: ['HIT', 'STAND'], Acción intentada: HIT\n",
      "Estado terminal: False, Acciones disponibles: ['HIT', 'STAND']\n",
      "Valor jugador: 26, Valor crupier: 12, Resultado: -1\n",
      "Valor jugador: 13, Valor crupier: 20, Resultado: -1\n",
      "Estado terminal: False, Acciones disponibles: ['HIT', 'STAND']\n",
      "Acciones posibles: ['HIT', 'STAND'], Acción intentada: HIT\n",
      "Estado terminal: False, Acciones disponibles: ['HIT', 'STAND']\n",
      "Estado terminal: False, Acciones disponibles: ['HIT', 'STAND']\n",
      "Acciones posibles: ['HIT', 'STAND'], Acción intentada: HIT\n",
      "Estado terminal: False, Acciones disponibles: ['HIT', 'STAND']\n",
      "Valor jugador: 23, Valor crupier: 12, Resultado: -1\n",
      "Estado terminal: False, Acciones disponibles: ['HIT', 'STAND']\n",
      "Acciones posibles: ['HIT', 'STAND'], Acción intentada: HIT\n",
      "Estado terminal: False, Acciones disponibles: ['HIT', 'STAND']\n",
      "Valor jugador: 21, Valor crupier: 9, Resultado: 1\n",
      "Estado terminal: False, Acciones disponibles: ['HIT', 'STAND']\n",
      "Acciones posibles: ['HIT', 'STAND'], Acción intentada: HIT\n",
      "Estado terminal: False, Acciones disponibles: ['HIT', 'STAND']\n",
      "Valor jugador: 22, Valor crupier: 16, Resultado: -1\n",
      "Valor jugador: 11, Valor crupier: 20, Resultado: -1\n",
      "Estado terminal: False, Acciones disponibles: ['HIT', 'STAND']\n",
      "Acciones posibles: ['HIT', 'STAND'], Acción intentada: HIT\n",
      "Estado terminal: False, Acciones disponibles: ['HIT', 'STAND']\n",
      "Estado terminal: False, Acciones disponibles: ['HIT', 'STAND']\n",
      "Acciones posibles: ['HIT', 'STAND'], Acción intentada: HIT\n",
      "Estado terminal: False, Acciones disponibles: ['HIT', 'STAND']\n",
      "Valor jugador: 29, Valor crupier: 12, Resultado: -1\n",
      "Valor jugador: 16, Valor crupier: 18, Resultado: -1\n",
      "Valor jugador: 11, Valor crupier: 20, Resultado: -1\n",
      "Valor jugador: 13, Valor crupier: 18, Resultado: -1\n",
      "Valor jugador: 11, Valor crupier: 17, Resultado: -1\n",
      "Estado terminal: False, Acciones disponibles: ['HIT', 'STAND']\n",
      "Acciones posibles: ['HIT', 'STAND'], Acción intentada: HIT\n",
      "Estado terminal: False, Acciones disponibles: ['HIT', 'STAND']\n",
      "Estado terminal: False, Acciones disponibles: ['HIT', 'STAND']\n",
      "Acciones posibles: ['HIT', 'STAND'], Acción intentada: HIT\n",
      "Estado terminal: False, Acciones disponibles: ['HIT', 'STAND']\n",
      "Valor jugador: 26, Valor crupier: 10, Resultado: -1\n",
      "Estado terminal: False, Acciones disponibles: ['HIT', 'STAND']\n",
      "Acciones posibles: ['HIT', 'STAND'], Acción intentada: HIT\n",
      "Estado terminal: False, Acciones disponibles: ['HIT', 'STAND']\n",
      "Valor jugador: 26, Valor crupier: 9, Resultado: -1\n",
      "Valor jugador: 12, Valor crupier: 18, Resultado: -1\n",
      "Estado terminal: False, Acciones disponibles: ['HIT', 'STAND']\n",
      "Acciones posibles: ['HIT', 'STAND'], Acción intentada: HIT\n",
      "Estado terminal: False, Acciones disponibles: ['HIT', 'STAND']\n",
      "Estado terminal: False, Acciones disponibles: ['HIT', 'STAND']\n",
      "Acciones posibles: ['HIT', 'STAND'], Acción intentada: HIT\n",
      "Estado terminal: False, Acciones disponibles: ['HIT', 'STAND']\n",
      "Estado terminal: False, Acciones disponibles: ['HIT', 'STAND']\n",
      "Acciones posibles: ['HIT', 'STAND'], Acción intentada: HIT\n",
      "Estado terminal: False, Acciones disponibles: ['HIT', 'STAND']\n",
      "Estado terminal: False, Acciones disponibles: ['HIT', 'STAND']\n",
      "Acciones posibles: ['HIT', 'STAND'], Acción intentada: STAND\n",
      "Estado terminal: False, Acciones disponibles: ['HIT', 'STAND']\n",
      "Estado terminal: False, Acciones disponibles: ['HIT', 'STAND']\n",
      "Acciones posibles: ['HIT', 'STAND'], Acción intentada: HIT\n",
      "Estado terminal: False, Acciones disponibles: ['HIT', 'STAND']\n",
      "Estado terminal: False, Acciones disponibles: ['HIT', 'STAND']\n",
      "Acciones posibles: ['HIT', 'STAND'], Acción intentada: HIT\n",
      "Estado terminal: False, Acciones disponibles: ['HIT', 'STAND']\n",
      "Valor jugador: 19, Valor crupier: 24, Resultado: 1\n",
      "Estado terminal: False, Acciones disponibles: ['HIT', 'STAND']\n",
      "Acciones posibles: ['HIT', 'STAND'], Acción intentada: HIT\n",
      "Estado terminal: False, Acciones disponibles: ['HIT', 'STAND']\n",
      "Valor jugador: 21, Valor crupier: 13, Resultado: 1\n",
      "Valor jugador: 5, Valor crupier: 20, Resultado: -1\n",
      "Valor jugador: 14, Valor crupier: 20, Resultado: -1\n",
      "Valor jugador: 20, Valor crupier: 18, Resultado: 1\n",
      "Valor jugador: 13, Valor crupier: 21, Resultado: -1\n",
      "Estado terminal: False, Acciones disponibles: ['HIT', 'STAND']\n",
      "Acciones posibles: ['HIT', 'STAND'], Acción intentada: STAND\n",
      "Estado terminal: False, Acciones disponibles: ['HIT', 'STAND']\n",
      "Estado terminal: False, Acciones disponibles: ['HIT', 'STAND']\n",
      "Acciones posibles: ['HIT', 'STAND'], Acción intentada: STAND\n",
      "Estado terminal: False, Acciones disponibles: ['HIT', 'STAND']\n",
      "Estado terminal: False, Acciones disponibles: []\n",
      "Acciones posibles: [], Acción intentada: HIT\n",
      "Estado terminal: False, Acciones disponibles: []\n"
     ]
    },
    {
     "ename": "ValueError",
     "evalue": "Acción inválida",
     "output_type": "error",
     "traceback": [
      "\u001b[0;31m---------------------------------------------------------------------------\u001b[0m",
      "\u001b[0;31mValueError\u001b[0m                                Traceback (most recent call last)",
      "Cell \u001b[0;32mIn[4], line 1\u001b[0m\n\u001b[0;32m----> 1\u001b[0m agente, resultados \u001b[39m=\u001b[39m train(\u001b[39m100\u001b[39;49m)\n",
      "Cell \u001b[0;32mIn[3], line 14\u001b[0m, in \u001b[0;36mtrain\u001b[0;34m(episodios)\u001b[0m\n\u001b[1;32m     12\u001b[0m     estado_codificado \u001b[39m=\u001b[39m \u001b[39mtuple\u001b[39m(juego\u001b[39m.\u001b[39mestado\u001b[39m.\u001b[39mget_estado_codificado())\n\u001b[1;32m     13\u001b[0m     accion \u001b[39m=\u001b[39m agente\u001b[39m.\u001b[39mget_action(estado_codificado)\n\u001b[0;32m---> 14\u001b[0m     juego\u001b[39m.\u001b[39;49mrealizar_accion(jugador_activo, accion)\n\u001b[1;32m     15\u001b[0m resultado_episodio \u001b[39m=\u001b[39m juego\u001b[39m.\u001b[39mget_resultados()\n\u001b[1;32m     16\u001b[0m \u001b[39mif\u001b[39;00m resultado_episodio:\n",
      "File \u001b[0;32m~/Documentos/CODIGO/Machine-Learning-Blackajack/juego/__init__.py:60\u001b[0m, in \u001b[0;36mJuego.realizar_accion\u001b[0;34m(self, jugador_activo, accion)\u001b[0m\n\u001b[1;32m     58\u001b[0m \u001b[39mprint\u001b[39m(\u001b[39mf\u001b[39m\u001b[39m\"\u001b[39m\u001b[39mAcciones posibles: \u001b[39m\u001b[39m{\u001b[39;00m\u001b[39mself\u001b[39m\u001b[39m.\u001b[39macciones_posibles()\u001b[39m}\u001b[39;00m\u001b[39m, Acción intentada: \u001b[39m\u001b[39m{\u001b[39;00maccion\u001b[39m}\u001b[39;00m\u001b[39m\"\u001b[39m)\n\u001b[1;32m     59\u001b[0m \u001b[39mif\u001b[39;00m accion \u001b[39mnot\u001b[39;00m \u001b[39min\u001b[39;00m \u001b[39mself\u001b[39m\u001b[39m.\u001b[39macciones_posibles():\n\u001b[0;32m---> 60\u001b[0m     \u001b[39mraise\u001b[39;00m \u001b[39mValueError\u001b[39;00m(\u001b[39m\"\u001b[39m\u001b[39mAcción inválida\u001b[39m\u001b[39m\"\u001b[39m)\n\u001b[1;32m     61\u001b[0m \u001b[39mif\u001b[39;00m accion \u001b[39m==\u001b[39m \u001b[39m'\u001b[39m\u001b[39mHIT\u001b[39m\u001b[39m'\u001b[39m:\n\u001b[1;32m     62\u001b[0m     jugador_activo\u001b[39m.\u001b[39mactualizar_mano(\u001b[39mself\u001b[39m\u001b[39m.\u001b[39mbaraja\u001b[39m.\u001b[39mpop())\n",
      "\u001b[0;31mValueError\u001b[0m: Acción inválida"
     ]
    }
   ],
   "source": [
    "agente, resultados = train(100)"
   ]
  },
  {
   "cell_type": "code",
   "execution_count": null,
   "metadata": {},
   "outputs": [],
   "source": [
    "def plot_ganancias(resultados):\n",
    "    ganancias_acumuladas = [sum(r[-1] for r in resultados[:i+1]) for i in range(len(resultados))]\n",
    "    plt.figure(figsize=(10, 6))\n",
    "    plt.plot(range(1, len(ganancias_acumuladas) + 1), ganancias_acumuladas)\n",
    "    plt.title(\"Ganancias Acumuladas Durante el Entrenamiento\")\n",
    "    plt.xlabel(\"Episodio\")\n",
    "    plt.ylabel(\"Ganancias Acumuladas\")\n",
    "    plt.show()\n",
    "\n",
    "plot_ganancias(resultados) "
   ]
  },
  {
   "cell_type": "code",
   "execution_count": null,
   "metadata": {},
   "outputs": [],
   "source": [
    "ganancias = sum([r[-1] for r in resultados])\n",
    "ganancias"
   ]
  },
  {
   "cell_type": "code",
   "execution_count": null,
   "metadata": {},
   "outputs": [],
   "source": [
    "# Suponiendo que tienes la clase Juego y las clases de agentes definidas\n",
    "dummy_agent = DummyAgent()\n",
    "neural_network_agent = NeuralNetworkAgent(28)\n",
    "\n",
    "simulador = MontecarloBlackjack({'DummyAgent': dummy_agent, 'NeuralNetworkAgent': neural_network_agent}, 6, False)\n",
    "simulador.simular()\n",
    "simulador.plot_resultados()"
   ]
  }
 ],
 "metadata": {
  "kernelspec": {
   "display_name": "Python 3",
   "language": "python",
   "name": "python3"
  },
  "language_info": {
   "codemirror_mode": {
    "name": "ipython",
    "version": 3
   },
   "file_extension": ".py",
   "mimetype": "text/x-python",
   "name": "python",
   "nbconvert_exporter": "python",
   "pygments_lexer": "ipython3",
   "version": "3.11.6"
  },
  "orig_nbformat": 4
 },
 "nbformat": 4,
 "nbformat_minor": 2
}
