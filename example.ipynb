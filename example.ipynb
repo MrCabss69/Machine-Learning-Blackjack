{
 "cells": [
  {
   "cell_type": "code",
   "execution_count": 1,
   "metadata": {},
   "outputs": [
    {
     "name": "stderr",
     "output_type": "stream",
     "text": [
      "2023-12-28 21:56:41.775913: I tensorflow/tsl/cuda/cudart_stub.cc:28] Could not find cuda drivers on your machine, GPU will not be used.\n",
      "2023-12-28 21:56:41.824558: I tensorflow/tsl/cuda/cudart_stub.cc:28] Could not find cuda drivers on your machine, GPU will not be used.\n",
      "2023-12-28 21:56:41.825380: I tensorflow/core/platform/cpu_feature_guard.cc:182] This TensorFlow binary is optimized to use available CPU instructions in performance-critical operations.\n",
      "To enable the following instructions: AVX2 FMA, in other operations, rebuild TensorFlow with the appropriate compiler flags.\n",
      "2023-12-28 21:56:42.665707: W tensorflow/compiler/tf2tensorrt/utils/py_utils.cc:38] TF-TRT Warning: Could not find TensorRT\n"
     ]
    }
   ],
   "source": [
    "from core import SimulacionMontecarlo, BlackjackNN, BlackjackCNN\n",
    "\n",
    "from tensorflow.keras.models import Sequential\n",
    "from tensorflow.keras.layers import Dense, Dropout\n",
    "from tensorflow.keras.utils import to_categorical\n",
    "from tensorflow.keras.callbacks import Callback\n",
    "from sklearn.model_selection import train_test_split\n",
    "\n",
    "import pandas as pd\n",
    "import numpy as np\n",
    "import json\n",
    "import matplotlib.pyplot as plt"
   ]
  },
  {
   "cell_type": "code",
   "execution_count": 2,
   "metadata": {},
   "outputs": [],
   "source": [
    "# Ejemplo de uso\n",
    "simulacion = SimulacionMontecarlo(n_barajas=1, n_simulaciones=1_000_000)\n",
    "simulacion.simular()"
   ]
  },
  {
   "cell_type": "code",
   "execution_count": null,
   "metadata": {},
   "outputs": [],
   "source": [
    "# s = sum([r[-1] for r in simulacion.resultados])\n",
    "# s"
   ]
  },
  {
   "cell_type": "code",
   "execution_count": null,
   "metadata": {},
   "outputs": [],
   "source": [
    "def cargar_datos(csv_file):\n",
    "    df                 = pd.read_csv(csv_file)\n",
    "    df['Mano Jugador'] = df['Mano Jugador'].apply(json.loads)\n",
    "    df['Mano Crupier'] = df['Mano Crupier'].apply(json.loads)\n",
    "    df['Accion']       = df['Accion'].apply(json.loads)\n",
    "    return df"
   ]
  },
  {
   "cell_type": "code",
   "execution_count": null,
   "metadata": {},
   "outputs": [],
   "source": [
    "df = cargar_datos('resultados_blackjack.csv')\n",
    "df"
   ]
  },
  {
   "cell_type": "code",
   "execution_count": null,
   "metadata": {},
   "outputs": [],
   "source": [
    "# Crear df_training concatenando las columnas relevantes\n",
    "df_training = pd.DataFrame(df.apply(lambda x: x['Mano Jugador'] + x['Mano Crupier'] + x['Accion'], axis=1), columns=['Features'])\n",
    "df_training"
   ]
  },
  {
   "cell_type": "code",
   "execution_count": null,
   "metadata": {},
   "outputs": [],
   "source": [
    "# Crear df_labels con solo la columna Resultado\n",
    "df_labels = df[['Resultado']]\n",
    "df_labels"
   ]
  },
  {
   "cell_type": "code",
   "execution_count": null,
   "metadata": {},
   "outputs": [],
   "source": [
    "# Convertir los datos a numpy arrays\n",
    "X = np.array(df_training['Features'].tolist())\n",
    "y = np.array(df_labels['Resultado'])\n",
    "\n",
    "# Convertir las etiquetas a categorías (one-hot encoding)\n",
    "y = to_categorical(y, num_classes=3)  # Asumiendo que hay tres clases: -1, 0, 1\n",
    "\n",
    "# Dividir los datos en conjuntos de entrenamiento y prueba\n",
    "X_train, X_test, y_train, y_test = train_test_split(X, y, test_size=0.2, random_state=42)\n",
    "\n",
    "# Inicializar y compilar la red neuronal\n",
    "input_size = X_train.shape[1]  # Número de características\n",
    "output_size = y.shape[1]       # Número de clases de salida\n",
    "\n",
    "network = BlackjackNN(input_size, output_size)\n",
    "network.compile()"
   ]
  },
  {
   "cell_type": "code",
   "execution_count": null,
   "metadata": {},
   "outputs": [],
   "source": [
    "class MetricsCallback(Callback):\n",
    "    def on_train_begin(self, logs={}):\n",
    "        self.metrics = {'loss': [], 'accuracy': [], 'val_loss': [], 'val_accuracy': []}\n",
    "\n",
    "    def on_epoch_end(self, epoch, logs={}):\n",
    "        self.metrics['loss'].append(logs.get('loss'))\n",
    "        self.metrics['accuracy'].append(logs.get('accuracy'))\n",
    "        self.metrics['val_loss'].append(logs.get('val_loss'))\n",
    "        self.metrics['val_accuracy'].append(logs.get('val_accuracy'))\n",
    "\n",
    "metrics_callback = MetricsCallback()\n",
    "\n",
    "# Entrenar el modelo\n",
    "history = network.model.fit(X_train, y_train, epochs=10, batch_size=32, validation_data=(X_test, y_test), callbacks=[metrics_callback])\n",
    "\n",
    "# Visualizar las métricas\n",
    "plt.figure(figsize=(12, 5))\n",
    "\n",
    "# Pérdida\n",
    "plt.subplot(1, 2, 1)\n",
    "plt.plot(metrics_callback.metrics['loss'], label='Entrenamiento')\n",
    "plt.plot(metrics_callback.metrics['val_loss'], label='Validación')\n",
    "plt.title('Pérdida durante el Entrenamiento')\n",
    "plt.xlabel('Épocas')\n",
    "plt.ylabel('Pérdida')\n",
    "plt.legend()\n",
    "\n",
    "# Precisión\n",
    "plt.subplot(1, 2, 2)\n",
    "plt.plot(metrics_callback.metrics['accuracy'], label='Entrenamiento')\n",
    "plt.plot(metrics_callback.metrics['val_accuracy'], label='Validación')\n",
    "plt.title('Precisión durante el Entrenamiento')\n",
    "plt.xlabel('Épocas')\n",
    "plt.ylabel('Precisión')\n",
    "plt.legend()\n",
    "plt.show()"
   ]
  }
 ],
 "metadata": {
  "kernelspec": {
   "display_name": "Python 3",
   "language": "python",
   "name": "python3"
  },
  "language_info": {
   "codemirror_mode": {
    "name": "ipython",
    "version": 3
   },
   "file_extension": ".py",
   "mimetype": "text/x-python",
   "name": "python",
   "nbconvert_exporter": "python",
   "pygments_lexer": "ipython3",
   "version": "3.11.6"
  },
  "orig_nbformat": 4
 },
 "nbformat": 4,
 "nbformat_minor": 2
}
