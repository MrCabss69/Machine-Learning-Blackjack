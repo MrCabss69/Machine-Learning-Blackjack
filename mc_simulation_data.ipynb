{
 "cells": [
  {
   "cell_type": "code",
<<<<<<< HEAD
   "execution_count": null,
   "metadata": {},
   "outputs": [],
=======
<<<<<<< HEAD
   "execution_count": null,
   "metadata": {},
   "outputs": [],
=======
   "execution_count": 2,
   "metadata": {},
   "outputs": [
    {
     "name": "stderr",
     "output_type": "stream",
     "text": [
      "2023-12-29 01:01:47.351054: W tensorflow/compiler/tf2tensorrt/utils/py_utils.cc:38] TF-TRT Warning: Could not find TensorRT\n"
     ]
    }
   ],
>>>>>>> 5bc4853 (refactor on Neural Nets)
>>>>>>> 5e42a24 (Guardando mis cambios en una nueva rama)
   "source": [
    "from core import SimulacionMontecarlo"
   ]
  },
  {
   "cell_type": "code",
<<<<<<< HEAD
=======
<<<<<<< HEAD
>>>>>>> 5e42a24 (Guardando mis cambios en una nueva rama)
   "execution_count": null,
   "metadata": {},
   "outputs": [],
   "source": [
    "simulacion = SimulacionMontecarlo(n_barajas=1, n_simulaciones=1_000_000)\n",
<<<<<<< HEAD
=======
=======
   "execution_count": 3,
   "metadata": {},
   "outputs": [
    {
     "name": "stderr",
     "output_type": "stream",
     "text": [
      "100%|██████████| 5000000/5000000 [07:45<00:00, 10733.78it/s]\n"
     ]
    }
   ],
   "source": [
    "simulacion = SimulacionMontecarlo(n_barajas=1, n_simulaciones=5_000_000)\n",
>>>>>>> 5bc4853 (refactor on Neural Nets)
>>>>>>> 5e42a24 (Guardando mis cambios en una nueva rama)
    "simulacion.simular()"
   ]
  },
  {
   "cell_type": "code",
<<<<<<< HEAD
   "execution_count": null,
   "metadata": {},
   "outputs": [],
=======
<<<<<<< HEAD
   "execution_count": null,
   "metadata": {},
   "outputs": [],
=======
   "execution_count": 4,
   "metadata": {},
   "outputs": [
    {
     "data": {
      "text/plain": [
       "-4390191"
      ]
     },
     "execution_count": 4,
     "metadata": {},
     "output_type": "execute_result"
    }
   ],
>>>>>>> 5bc4853 (refactor on Neural Nets)
>>>>>>> 5e42a24 (Guardando mis cambios en una nueva rama)
   "source": [
    "s = sum([r[-1] for r in simulacion.resultados])\n",
    "s"
   ]
  }
 ],
 "metadata": {
  "kernelspec": {
   "display_name": "Python 3",
   "language": "python",
   "name": "python3"
  },
  "language_info": {
   "codemirror_mode": {
    "name": "ipython",
    "version": 3
   },
   "file_extension": ".py",
   "mimetype": "text/x-python",
   "name": "python",
   "nbconvert_exporter": "python",
   "pygments_lexer": "ipython3",
   "version": "3.11.6"
  },
  "orig_nbformat": 4
 },
 "nbformat": 4,
 "nbformat_minor": 2
}
